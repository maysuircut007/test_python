{
 "cells": [
  {
   "cell_type": "markdown",
   "id": "bc1c384a",
   "metadata": {},
   "source": [
    "#                                                     string\n",
    " len()\n",
    ".upper() / .lower() / .isupper() / .islower() /\n",
    ".capitalize() / .casefold() /\n",
    ".replace() / .format()/ .count() /\n",
    ".strip() / .lstrip() / .rstrip() /\n",
    ".startswith() / .endswith() /\n",
    ".split() / rsplit() / splitlines() /\n",
    ".isdigit() / .index() / +"
   ]
  },
  {
   "cell_type": "code",
   "execution_count": null,
   "id": "ceb4bd7d",
   "metadata": {},
   "outputs": [],
   "source": [
    "may = \" tThis {:.4f} is my python {} programth  \"\n",
    "mar = \" This {} is my python {} program\""
   ]
  },
  {
   "cell_type": "code",
   "execution_count": null,
   "id": "a9b168e5",
   "metadata": {
    "scrolled": false
   },
   "outputs": [],
   "source": []
  },
  {
   "cell_type": "markdown",
   "id": "0e796069",
   "metadata": {},
   "source": [
    "#                                                   list\n",
    "len()\n",
    "var[] / .append() / .insert() /\n",
    ".pop() / .remove() / del ver[] / del var / .clear() /\n",
    ".copy() / .extend() หรือ + / .count() /\n",
    ".sort()/ sorted()/ .reverse() / list(reversed()) /\n",
    "\"\".join() / .index()"
   ]
  },
  {
   "cell_type": "code",
   "execution_count": null,
   "id": "44b2bb3c",
   "metadata": {},
   "outputs": [],
   "source": [
    "may = [\"thailand\", \"mynmar\", \"combodia\"]\n",
    "num = [5, 4, 6, 3, 2, 8, 0, 9, 7, 1,0]"
   ]
  },
  {
   "cell_type": "code",
   "execution_count": null,
   "id": "866a3a3d",
   "metadata": {},
   "outputs": [],
   "source": []
  },
  {
   "cell_type": "markdown",
   "id": "09c83788",
   "metadata": {},
   "source": [
    "#                              tuple\n",
    "len() /\n",
    "del Var /\n",
    ".count() /\n",
    ".index() /\n",
    "\" \".join()\n",
    "+ / +(,)"
   ]
  },
  {
   "cell_type": "code",
   "execution_count": null,
   "id": "2db0b14f",
   "metadata": {},
   "outputs": [],
   "source": [
    "mat = \"maysa\" \n",
    "may = (\"pencil\", \"elaser\", \"ruler\", \"carpenter\")\n",
    "mar = (1, 2, 3, 7, 7, 9, 4, 4, 5, 0,0)"
   ]
  },
  {
   "cell_type": "code",
   "execution_count": null,
   "id": "c08cae33",
   "metadata": {},
   "outputs": [],
   "source": []
  },
  {
   "cell_type": "markdown",
   "id": "0c06b05a",
   "metadata": {},
   "source": [
    "#                              dictionary\n",
    "len() /\n",
    "Var[] / .update() /\n",
    ".pop() / .popitem() / clear() / del Var[] / del Var /\n",
    ".copy() / .keys() / .values() /"
   ]
  },
  {
   "cell_type": "code",
   "execution_count": null,
   "id": "e554d437",
   "metadata": {},
   "outputs": [],
   "source": [
    "fruit = {\"apple\":\"red\", \"mango\":\"green\", \"banana\":\"yellow\",}\n",
    "animal = {\"dog\":\"black\", \"cat\":\"gray\", \"baer\":\"brow\", 64:\"python\"}\n"
   ]
  },
  {
   "cell_type": "code",
   "execution_count": null,
   "id": "f06fa655",
   "metadata": {},
   "outputs": [],
   "source": [
    "fruit.values()"
   ]
  },
  {
   "cell_type": "markdown",
   "id": "52d5c720",
   "metadata": {},
   "source": [
    "#                                                  SET\n",
    "len() /\n",
    ".add() / .update /\n",
    ".remove() / .discard() / .clear() / del var /\n",
    ".union() , | / .differrence() , - /  .intersection() , & / .symmetric_difference() , ^ /\n",
    ".difference_update() / . intersection_update() / .symmetric_difference_update() /\n",
    ".issuperset() / .issubset()\n",
    ".copy()"
   ]
  },
  {
   "cell_type": "code",
   "execution_count": null,
   "id": "fa563180",
   "metadata": {},
   "outputs": [],
   "source": [
    "fruit = {\"apple\",\"red\", \"mango\",\"green\", \"banana\",\"yellow\"}\n",
    "animal = {\"dog\", \"red\", \"cat\", \"green\", \"baer\", \"yellow\", 64}\n",
    "sub = {\"red\",\"green\",\"yellow\"}"
   ]
  },
  {
   "cell_type": "code",
   "execution_count": null,
   "id": "6c22b29c",
   "metadata": {},
   "outputs": [],
   "source": []
  }
 ],
 "metadata": {
  "kernelspec": {
   "display_name": "Python 3",
   "language": "python",
   "name": "python3"
  },
  "language_info": {
   "codemirror_mode": {
    "name": "ipython",
    "version": 3
   },
   "file_extension": ".py",
   "mimetype": "text/x-python",
   "name": "python",
   "nbconvert_exporter": "python",
   "pygments_lexer": "ipython3",
   "version": "3.8.8"
  }
 },
 "nbformat": 4,
 "nbformat_minor": 5
}
